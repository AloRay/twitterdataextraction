{
 "cells": [
  {
   "cell_type": "code",
   "execution_count": 2,
   "id": "aa2129b3",
   "metadata": {},
   "outputs": [],
   "source": [
    "import twint\n",
    "import pandas as pd\n",
    "from collections import Counter"
   ]
  },
  {
   "cell_type": "code",
   "execution_count": null,
   "id": "346a95e6",
   "metadata": {},
   "outputs": [],
   "source": []
  },
  {
   "cell_type": "code",
   "execution_count": null,
   "id": "a5b31baa",
   "metadata": {},
   "outputs": [],
   "source": [
    "##After importing the necessary libraries, now we need to start by creating a user list consisting of Twitter accounts. \n",
    "##We will analyze the relationships between the Twitter accounts of these people that I will add in the list below:"
   ]
  },
  {
   "cell_type": "code",
   "execution_count": null,
   "id": "ea0fb581",
   "metadata": {},
   "outputs": [],
   "source": []
  },
  {
   "cell_type": "code",
   "execution_count": null,
   "id": "90de894d",
   "metadata": {},
   "outputs": [],
   "source": [
    "users = [\n",
    "    'shakira',\n",
    "    'KimKardashian',\n",
    "    'rihanna',\n",
    "    'jtimberlake',\n",
    "    'KingJames',\n",
    "    'neymarjr',\n",
    "]"
   ]
  },
  {
   "cell_type": "code",
   "execution_count": null,
   "id": "96990fde",
   "metadata": {},
   "outputs": [],
   "source": []
  },
  {
   "cell_type": "code",
   "execution_count": null,
   "id": "263009c2",
   "metadata": {},
   "outputs": [],
   "source": [
    "##Now let’s start by scraping Twitter with python and to analyze the relationships between all the Twitter accounts in our \n",
    "##list above, I’ll write a function named get_followings which will send a request to the twint library with a username. \n",
    "##This function will return a list of users that our input user follows:"
   ]
  },
  {
   "cell_type": "code",
   "execution_count": null,
   "id": "b01fe8e9",
   "metadata": {},
   "outputs": [],
   "source": []
  },
  {
   "cell_type": "code",
   "execution_count": null,
   "id": "834a73d7",
   "metadata": {},
   "outputs": [],
   "source": [
    "def get_followings(username):\n",
    "\n",
    "    c = twint.Config()\n",
    "    c.Username = username\n",
    "    c.Pandas = True\n",
    "\n",
    "    twint.run.Following(c)\n",
    "    list_of_followings = twint.storage.panda.Follow_df\n",
    "\n",
    "    return list_of_followings['following'][username]"
   ]
  },
  {
   "cell_type": "code",
   "execution_count": null,
   "id": "6dd19e2d",
   "metadata": {},
   "outputs": [],
   "source": []
  },
  {
   "cell_type": "code",
   "execution_count": 4,
   "id": "c99affe0",
   "metadata": {},
   "outputs": [],
   "source": [
    "##The for loop below will create two variables, as sometimes we get index error when Twitter does not respond to our request.\n",
    "##For such cases, I added an exception to the code to ignore these users:"
   ]
  },
  {
   "cell_type": "code",
   "execution_count": null,
   "id": "f00fbbc4",
   "metadata": {},
   "outputs": [],
   "source": []
  },
  {
   "cell_type": "code",
   "execution_count": null,
   "id": "7fa63c6e",
   "metadata": {},
   "outputs": [],
   "source": [
    "followings = {}\n",
    "following_list = []\n",
    "for person in users:\n",
    "    print('#####\\nStarting: ' + person + '\\n#####')\n",
    "    try:\n",
    "        followings[person] = get_followings(person)\n",
    "        following_list = following_list + followings[person]\n",
    "    except KeyError:\n",
    "        print('IndexError')"
   ]
  },
  {
   "cell_type": "code",
   "execution_count": null,
   "id": "77abd027",
   "metadata": {},
   "outputs": [],
   "source": []
  },
  {
   "cell_type": "code",
   "execution_count": null,
   "id": "a29c1424",
   "metadata": {},
   "outputs": [],
   "source": [
    "##After getting all of the following lists, we can just calculate the most common values in the following_list variable to \n",
    "##get the most popular accounts among our users. To get the 10 most followed accounts, we will use the Counter function of \n",
    "##the collection library:"
   ]
  },
  {
   "cell_type": "code",
   "execution_count": null,
   "id": "a6cf3286",
   "metadata": {},
   "outputs": [],
   "source": []
  },
  {
   "cell_type": "code",
   "execution_count": null,
   "id": "fe8acdd6",
   "metadata": {},
   "outputs": [],
   "source": [
    "Counter(following_list).most_common(10)"
   ]
  },
  {
   "cell_type": "code",
   "execution_count": null,
   "id": "f4fc2c10",
   "metadata": {},
   "outputs": [],
   "source": []
  },
  {
   "cell_type": "code",
   "execution_count": null,
   "id": "8cae280d",
   "metadata": {},
   "outputs": [],
   "source": [
    "##What if we want to see who’s following who in our user group? To study it, I wrote a for loop that checks if anyone among \n",
    "##the users is in the following list of another person. As a result, it creates a list dictionary displaying the following \n",
    "##states represented by True and False:"
   ]
  },
  {
   "cell_type": "code",
   "execution_count": null,
   "id": "b70a75c8",
   "metadata": {},
   "outputs": [],
   "source": []
  },
  {
   "cell_type": "code",
   "execution_count": null,
   "id": "ae74a743",
   "metadata": {},
   "outputs": [],
   "source": [
    "follow_relations ={}\n",
    "for following_user in followings.keys():\n",
    "    follow_relation_list = []\n",
    "    for followed_user in followings.keys():\n",
    "        if followed_user in followings[following_user]:\n",
    "            follow_relation_list.append(True)\n",
    "        else:\n",
    "            follow_relation_list.append(False)\n",
    "    follow_relations[following_user] = follow_relation_list"
   ]
  },
  {
   "cell_type": "code",
   "execution_count": null,
   "id": "bce40f7a",
   "metadata": {},
   "outputs": [],
   "source": []
  },
  {
   "cell_type": "code",
   "execution_count": null,
   "id": "60189bec",
   "metadata": {},
   "outputs": [],
   "source": [
    "##In the code below, the resulting dictionary is transformed into a pandas dataframe for a more user-friendly visualization. \n",
    "##The rows of the dataframe show the users who follow, while the columns show the users who are followed:"
   ]
  },
  {
   "cell_type": "code",
   "execution_count": null,
   "id": "ec1e6618",
   "metadata": {},
   "outputs": [],
   "source": []
  },
  {
   "cell_type": "code",
   "execution_count": null,
   "id": "0895ee17",
   "metadata": {},
   "outputs": [],
   "source": [
    "following_df = pd.DataFrame.from_dict(follow_relations, \n",
    "                                      orient='index', columns=followings.keys())\n",
    "following_df"
   ]
  },
  {
   "cell_type": "code",
   "execution_count": null,
   "id": "42a30965",
   "metadata": {},
   "outputs": [],
   "source": []
  },
  {
   "cell_type": "code",
   "execution_count": null,
   "id": "f3c35b47",
   "metadata": {},
   "outputs": [],
   "source": [
    "##You can see the output of our analysis above. We reconfirm Rihanna’s popularity in this table. She is followed by all the \n",
    "##others. However, for Kim Kardashian, we can’t speak the same way, according to the analysis only Justin Timberlake in our \n",
    "##user group follows her."
   ]
  }
 ],
 "metadata": {
  "kernelspec": {
   "display_name": "Python 3 (ipykernel)",
   "language": "python",
   "name": "python3"
  },
  "language_info": {
   "codemirror_mode": {
    "name": "ipython",
    "version": 3
   },
   "file_extension": ".py",
   "mimetype": "text/x-python",
   "name": "python",
   "nbconvert_exporter": "python",
   "pygments_lexer": "ipython3",
   "version": "3.9.7"
  }
 },
 "nbformat": 4,
 "nbformat_minor": 5
}
